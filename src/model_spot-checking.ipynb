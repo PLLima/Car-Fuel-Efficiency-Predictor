{
 "cells": [
  {
   "cell_type": "markdown",
   "metadata": {},
   "source": [
    "# Predição de Consumo de Combustível"
   ]
  },
  {
   "cell_type": "markdown",
   "metadata": {},
   "source": [
    "Criação de modelos de aprendizado supervisionado para predizer o consumo de combustível de carros."
   ]
  },
  {
   "cell_type": "markdown",
   "metadata": {},
   "source": [
    "## Imports"
   ]
  },
  {
   "cell_type": "code",
   "execution_count": 1,
   "metadata": {},
   "outputs": [],
   "source": [
    "import pandas as pd\n",
    "import matplotlib.pyplot as plt\n",
    "import seaborn as sns\n",
    "import numpy as np\n",
    "\n",
    "from sklearn.neighbors import KNeighborsClassifier\n",
    "from sklearn.ensemble import RandomForestRegressor\n",
    "from sklearn.linear_model import LinearRegression\n",
    "from sklearn.neural_network import MLPRegressor\n",
    "from sklearn.svm import SVR\n",
    "\n",
    "from sklearn.preprocessing import OneHotEncoder\n",
    "from sklearn.compose import ColumnTransformer\n",
    "from sklearn.pipeline import Pipeline\n",
    "from sklearn.preprocessing import StandardScaler\n",
    "from sklearn.impute import SimpleImputer\n",
    "from sklearn.preprocessing import RobustScaler\n",
    "from sklearn.preprocessing import PolynomialFeatures\n",
    "\n",
    "from sklearn.metrics import mean_squared_error, mean_absolute_error, r2_score\n",
    "from sklearn.model_selection import train_test_split\n",
    "from sklearn.model_selection import KFold, cross_val_score\n",
    "\n",
    "import preprocessing as pre\n",
    "import plots\n",
    "import training as tr"
   ]
  },
  {
   "cell_type": "markdown",
   "metadata": {},
   "source": [
    "## Pré-processamento"
   ]
  },
  {
   "cell_type": "markdown",
   "metadata": {},
   "source": [
    "Aqui foi realizado o carregamento dos dados originais de um arquivo _csv_."
   ]
  },
  {
   "cell_type": "code",
   "execution_count": 2,
   "metadata": {},
   "outputs": [],
   "source": [
    "original_df = pd.read_csv('data/car_data_original.csv')"
   ]
  },
  {
   "cell_type": "markdown",
   "metadata": {},
   "source": [
    "Após isso, realizou-se a remoção das instâncias de carros elétricos pois continham muitos atributos faltantes e removeu-se os atributos de consumo em rodovia e cidade pois podem ser altamente colineares com a saída, simplificando demais o trabalho do preditor."
   ]
  },
  {
   "cell_type": "code",
   "execution_count": 3,
   "metadata": {},
   "outputs": [],
   "source": [
    "# Removendo os atributos colineares\n",
    "no_colinear_df = pre.drop_atributes(original_df, ['highway_mpg', 'city_mpg'])\n",
    "\n",
    "# Removendo as instâncias com NaN\n",
    "no_nan_df = pre.remove_instances_with_nan(no_colinear_df)"
   ]
  },
  {
   "cell_type": "markdown",
   "metadata": {},
   "source": [
    "Separou-se os atributos preditores `X` e preditos `y` em seguida."
   ]
  },
  {
   "cell_type": "code",
   "execution_count": 4,
   "metadata": {},
   "outputs": [],
   "source": [
    "X = no_nan_df.drop(columns=[\"combination_mpg\"])\n",
    "y = no_nan_df[\"combination_mpg\"]"
   ]
  },
  {
   "cell_type": "markdown",
   "metadata": {},
   "source": [
    "Determinou-se o tamanho dos conjuntos de teste e validação."
   ]
  },
  {
   "cell_type": "code",
   "execution_count": 5,
   "metadata": {},
   "outputs": [],
   "source": [
    "test_size = 0.1"
   ]
  },
  {
   "cell_type": "markdown",
   "metadata": {},
   "source": [
    "Após configurar esse parâmetro, colocou-se ao menos uma instância de cada categoria no _dataset_ de treinamento.\n",
    "\n",
    "Como não há nenhuma garantia que instância pelo menos uma instância de cada tipo estará na etapa de testes, garantiu-se que pelo menos na parte de treinamento os modelos passariam por todos os tipos de modelos de carros, garantindo preditores com mais completude."
   ]
  },
  {
   "cell_type": "code",
   "execution_count": 6,
   "metadata": {},
   "outputs": [],
   "source": [
    "train_indices = set()\n",
    "categorical_features = X.select_dtypes(include=['object', 'bool']).columns\n",
    "for feature in categorical_features:\n",
    "    unique_values = X[feature].unique()\n",
    "    for value in unique_values:\n",
    "        index = X[X[feature] == value].index[0]\n",
    "        train_indices.add(index)\n",
    "\n",
    "train_indices = list(train_indices)\n",
    "X_train_mandatory = X.loc[train_indices]\n",
    "y_train_mandatory = y.loc[train_indices]\n",
    "\n",
    "X = X.drop(train_indices)\n",
    "y = y.drop(train_indices)"
   ]
  },
  {
   "cell_type": "markdown",
   "metadata": {},
   "source": [
    "## Divisão de Dados e Treinamento para as Primeiras Avaliações"
   ]
  },
  {
   "cell_type": "markdown",
   "metadata": {},
   "source": [
    "Separou-se o conjunto de teste do conjunto de treinamento/validação antes de começar qualquer treinamento ou _spot-checking_ de modelos."
   ]
  },
  {
   "cell_type": "code",
   "execution_count": 7,
   "metadata": {},
   "outputs": [],
   "source": [
    "X_train, X_test, y_train, y_test = train_test_split(X, y, test_size=test_size)"
   ]
  },
  {
   "cell_type": "markdown",
   "metadata": {},
   "source": [
    "Com essa separação, aplicou-se o treinamento e validação dos diversos modelos com a estratégia de _k-fold cross-validation_."
   ]
  },
  {
   "cell_type": "code",
   "execution_count": null,
   "metadata": {},
   "outputs": [
    {
     "name": "stdout",
     "output_type": "stream",
     "text": [
      "Average MAE using the knn method: 18.19333333333333\n",
      "Average MSE using the knn method: 113.39333333333333\n",
      "\n",
      "\n",
      "Average MAE using the random_forest method: 12.446783554973665\n",
      "Average MSE using the random_forest method: 30.295209939449848\n",
      "\n",
      "\n",
      "Average MAE using the linear_regression method: 0.7456117217743834\n",
      "Average MSE using the linear_regression method: 0.930769340281029\n",
      "\n",
      "\n",
      "Average MAE using the neural_networks method: 1.191887203365788\n",
      "Average MSE using the neural_networks method: 1.7572170733101142\n",
      "\n",
      "\n",
      "Average MAE using the svm method: 13.293510177673669\n",
      "Average MSE using the svm method: 81.27379326677769\n",
      "\n",
      "\n"
     ]
    }
   ],
   "source": [
    "methods = [\n",
    "    \"knn\",\n",
    "    \"random_forest\",\n",
    "    \"linear_regression\",\n",
    "    \"neural_networks\",\n",
    "    \"svm\",\n",
    "]\n",
    "\n",
    "# Variáveis de controle para ajustar o número de iterações que calculam o desempenho e aumentam a reprodutibilidade dessa sequência de códigos\n",
    "n_repeats = 1\n",
    "k = 9 # k utilizado para o modelo kNN\n",
    "kfolds = 10\n",
    "plot_flag = False\n",
    "\n",
    "for method in methods:\n",
    "        tr.train(n_repeats, kfolds, k, plot_flag, X_train, y_train, X_train_mandatory, y_train_mandatory, method)"
   ]
  }
 ],
 "metadata": {
  "kernelspec": {
   "display_name": ".venv",
   "language": "python",
   "name": "python3"
  },
  "language_info": {
   "codemirror_mode": {
    "name": "ipython",
    "version": 3
   },
   "file_extension": ".py",
   "mimetype": "text/x-python",
   "name": "python",
   "nbconvert_exporter": "python",
   "pygments_lexer": "ipython3",
   "version": "3.12.3"
  }
 },
 "nbformat": 4,
 "nbformat_minor": 2
}
